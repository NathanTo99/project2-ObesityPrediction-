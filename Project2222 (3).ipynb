{
 "cells": [
  {
   "cell_type": "markdown",
   "id": "a7504ec9-a4ca-4575-8e00-ab51b40402ce",
   "metadata": {},
   "source": [
    "# Project 2: Predicting Obesity Level \n",
    "By: Nathan To"
   ]
  },
  {
   "cell_type": "markdown",
   "id": "38ee9630-2cfd-4e23-a92f-ef324e3ab878",
   "metadata": {},
   "source": [
    "## 1) Introduction (Problem)\n",
    "\n",
    "I’m using machine learning to see if we can predict a person’s weight category (underweight, normal, overweight, or obese) just from basic lifestyle and body information such as age, weight, height, and eating habits. This is a classification problem. the model tries to put each person into one of several groups.\n",
    "\n",
    "This kind of prediction is useful because it can give people or organizations a quick glimpse of someone’s health risk without needing a full medical check up. Knowing how different habits and traits are connected to weight status can also help raise awareness, guide lifestyle choices, and support public health programs.\n",
    "\n",
    "Key question:\n",
    "Given simple lifestyle and body stats, can we accurately predict someone’s obesity level?"
   ]
  },
  {
   "cell_type": "markdown",
   "id": "dc9779c7-3536-4498-8a1c-507499f8851a",
   "metadata": {},
   "source": [
    "## 2) Data (Source, Features, Target)\n",
    "\n",
    "**File**: ObesityDataSet_raw_and_data_sinthetic.csv, each row is one person.\n",
    "\n",
    "**What’s inside**: Things like gender, age, height, weight, family history, eating habits, physical activity (FAF), screen time (TUE), and transport (MTRANS).\n",
    "\n",
    "**Target column**: This is the obesity level (the class we’re predicting). In some files it’s named NObeyesdad, in others NObesity. I’m using NObeyesdad here.\n",
    "\n",
    "**Source**: Kaggle “Obesity Level” dataset."
   ]
  },
  {
   "cell_type": "code",
   "execution_count": 1,
   "id": "470f71a6-2da9-44d1-b2ff-cce363afa6f9",
   "metadata": {},
   "outputs": [],
   "source": [
    "import numpy as np, pandas as pd\n",
    "import matplotlib.pyplot as plt\n",
    "\n",
    "from sklearn.model_selection import train_test_split\n",
    "from sklearn.preprocessing import LabelEncoder\n",
    "from sklearn.tree import DecisionTreeClassifier\n",
    "from sklearn.metrics import accuracy_score, f1_score, classification_report, confusion_matrix"
   ]
  },
  {
   "cell_type": "code",
   "execution_count": 2,
   "id": "bc30d3b8-2bb5-4abb-876a-582d83a030ee",
   "metadata": {},
   "outputs": [
    {
     "name": "stdout",
     "output_type": "stream",
     "text": [
      "(2111, 17)\n"
     ]
    },
    {
     "data": {
      "text/html": [
       "<div>\n",
       "<style scoped>\n",
       "    .dataframe tbody tr th:only-of-type {\n",
       "        vertical-align: middle;\n",
       "    }\n",
       "\n",
       "    .dataframe tbody tr th {\n",
       "        vertical-align: top;\n",
       "    }\n",
       "\n",
       "    .dataframe thead th {\n",
       "        text-align: right;\n",
       "    }\n",
       "</style>\n",
       "<table border=\"1\" class=\"dataframe\">\n",
       "  <thead>\n",
       "    <tr style=\"text-align: right;\">\n",
       "      <th></th>\n",
       "      <th>Gender</th>\n",
       "      <th>Age</th>\n",
       "      <th>Height</th>\n",
       "      <th>Weight</th>\n",
       "      <th>family_history_with_overweight</th>\n",
       "      <th>FAVC</th>\n",
       "      <th>FCVC</th>\n",
       "      <th>NCP</th>\n",
       "      <th>CAEC</th>\n",
       "      <th>SMOKE</th>\n",
       "      <th>CH2O</th>\n",
       "      <th>SCC</th>\n",
       "      <th>FAF</th>\n",
       "      <th>TUE</th>\n",
       "      <th>CALC</th>\n",
       "      <th>MTRANS</th>\n",
       "      <th>NObeyesdad</th>\n",
       "    </tr>\n",
       "  </thead>\n",
       "  <tbody>\n",
       "    <tr>\n",
       "      <th>0</th>\n",
       "      <td>Female</td>\n",
       "      <td>21</td>\n",
       "      <td>1.62</td>\n",
       "      <td>64.0</td>\n",
       "      <td>yes</td>\n",
       "      <td>no</td>\n",
       "      <td>2.0</td>\n",
       "      <td>3.0</td>\n",
       "      <td>Sometimes</td>\n",
       "      <td>no</td>\n",
       "      <td>2.0</td>\n",
       "      <td>no</td>\n",
       "      <td>0.0</td>\n",
       "      <td>1.0</td>\n",
       "      <td>no</td>\n",
       "      <td>Public_Transportation</td>\n",
       "      <td>Normal_Weight</td>\n",
       "    </tr>\n",
       "    <tr>\n",
       "      <th>1</th>\n",
       "      <td>Female</td>\n",
       "      <td>21</td>\n",
       "      <td>1.52</td>\n",
       "      <td>56.0</td>\n",
       "      <td>yes</td>\n",
       "      <td>no</td>\n",
       "      <td>3.0</td>\n",
       "      <td>3.0</td>\n",
       "      <td>Sometimes</td>\n",
       "      <td>yes</td>\n",
       "      <td>3.0</td>\n",
       "      <td>yes</td>\n",
       "      <td>3.0</td>\n",
       "      <td>0.0</td>\n",
       "      <td>Sometimes</td>\n",
       "      <td>Public_Transportation</td>\n",
       "      <td>Normal_Weight</td>\n",
       "    </tr>\n",
       "    <tr>\n",
       "      <th>2</th>\n",
       "      <td>Male</td>\n",
       "      <td>23</td>\n",
       "      <td>1.80</td>\n",
       "      <td>77.0</td>\n",
       "      <td>yes</td>\n",
       "      <td>no</td>\n",
       "      <td>2.0</td>\n",
       "      <td>3.0</td>\n",
       "      <td>Sometimes</td>\n",
       "      <td>no</td>\n",
       "      <td>2.0</td>\n",
       "      <td>no</td>\n",
       "      <td>2.0</td>\n",
       "      <td>1.0</td>\n",
       "      <td>Frequently</td>\n",
       "      <td>Public_Transportation</td>\n",
       "      <td>Normal_Weight</td>\n",
       "    </tr>\n",
       "    <tr>\n",
       "      <th>3</th>\n",
       "      <td>Male</td>\n",
       "      <td>27</td>\n",
       "      <td>1.80</td>\n",
       "      <td>87.0</td>\n",
       "      <td>no</td>\n",
       "      <td>no</td>\n",
       "      <td>3.0</td>\n",
       "      <td>3.0</td>\n",
       "      <td>Sometimes</td>\n",
       "      <td>no</td>\n",
       "      <td>2.0</td>\n",
       "      <td>no</td>\n",
       "      <td>2.0</td>\n",
       "      <td>0.0</td>\n",
       "      <td>Frequently</td>\n",
       "      <td>Walking</td>\n",
       "      <td>Overweight_Level_I</td>\n",
       "    </tr>\n",
       "    <tr>\n",
       "      <th>4</th>\n",
       "      <td>Male</td>\n",
       "      <td>22</td>\n",
       "      <td>1.78</td>\n",
       "      <td>89.8</td>\n",
       "      <td>no</td>\n",
       "      <td>no</td>\n",
       "      <td>2.0</td>\n",
       "      <td>1.0</td>\n",
       "      <td>Sometimes</td>\n",
       "      <td>no</td>\n",
       "      <td>2.0</td>\n",
       "      <td>no</td>\n",
       "      <td>0.0</td>\n",
       "      <td>0.0</td>\n",
       "      <td>Sometimes</td>\n",
       "      <td>Public_Transportation</td>\n",
       "      <td>Overweight_Level_II</td>\n",
       "    </tr>\n",
       "  </tbody>\n",
       "</table>\n",
       "</div>"
      ],
      "text/plain": [
       "   Gender  Age  Height  Weight family_history_with_overweight FAVC  FCVC  NCP  \\\n",
       "0  Female   21    1.62    64.0                            yes   no   2.0  3.0   \n",
       "1  Female   21    1.52    56.0                            yes   no   3.0  3.0   \n",
       "2    Male   23    1.80    77.0                            yes   no   2.0  3.0   \n",
       "3    Male   27    1.80    87.0                             no   no   3.0  3.0   \n",
       "4    Male   22    1.78    89.8                             no   no   2.0  1.0   \n",
       "\n",
       "        CAEC SMOKE  CH2O  SCC  FAF  TUE        CALC                 MTRANS  \\\n",
       "0  Sometimes    no   2.0   no  0.0  1.0          no  Public_Transportation   \n",
       "1  Sometimes   yes   3.0  yes  3.0  0.0   Sometimes  Public_Transportation   \n",
       "2  Sometimes    no   2.0   no  2.0  1.0  Frequently  Public_Transportation   \n",
       "3  Sometimes    no   2.0   no  2.0  0.0  Frequently                Walking   \n",
       "4  Sometimes    no   2.0   no  0.0  0.0   Sometimes  Public_Transportation   \n",
       "\n",
       "            NObeyesdad  \n",
       "0        Normal_Weight  \n",
       "1        Normal_Weight  \n",
       "2        Normal_Weight  \n",
       "3   Overweight_Level_I  \n",
       "4  Overweight_Level_II  "
      ]
     },
     "execution_count": 2,
     "metadata": {},
     "output_type": "execute_result"
    }
   ],
   "source": [
    "# Make sure the file is in the same folder as your notebook\n",
    "df = pd.read_csv(\"ObesityDataSet_raw_and_data_sinthetic.csv\")\n",
    "print(df.shape)\n",
    "df.head()\n"
   ]
  },
  {
   "cell_type": "markdown",
   "id": "a0ca62e6-b9c1-4df1-9d20-52febc6e69f3",
   "metadata": {},
   "source": [
    "## 3) Pre-processing (What & Why)\n",
    "\n",
    "- Turn text columns into numbers so the model can read them (label encoding).\n",
    "\n",
    "- Keeps it simple — no heavy scaling or complicated settings.\n",
    "\n",
    "- Choose the target column and split the data into training (80%) and testing (20%)."
   ]
  },
  {
   "cell_type": "code",
   "execution_count": 10,
   "id": "1868f6ec-b90a-4a21-a2ed-5fce85f51a13",
   "metadata": {},
   "outputs": [
    {
     "data": {
      "text/plain": [
       "((1688, 16), (423, 16))"
      ]
     },
     "execution_count": 10,
     "metadata": {},
     "output_type": "execute_result"
    }
   ],
   "source": [
    "# --- Change this to \"NObesity\" if your file uses that name ---\n",
    "TARGET = \"NObeyesdad\"\n",
    "\n",
    "\n",
    "# Copy and simple label-encode ALL object (string) columns (quick and easy)\n",
    "df_enc = df.copy()\n",
    "labelers = {}\n",
    "\n",
    "for col in df_enc.select_dtypes(include=\"object\").columns:\n",
    "    le = LabelEncoder()\n",
    "    df_enc[col] = le.fit_transform(df_enc[col].astype(str))\n",
    "    labelers[col] = le\n",
    "\n",
    "# Features and target\n",
    "X = df_enc.drop(columns=[TARGET])\n",
    "y = df_enc[TARGET]\n",
    "\n",
    "# Train/test split\n",
    "X_tr, X_te, y_tr, y_te = train_test_split(\n",
    "    X, y, test_size=0.20, random_state=42, stratify=y\n",
    ")\n",
    "X_tr.shape, X_te.shape"
   ]
  },
  {
   "cell_type": "markdown",
   "id": "16a72996-e7bd-477c-8dc4-d8ce2f709a49",
   "metadata": {},
   "source": [
    "## 4) Data Understanding / Visualization\n",
    "\n",
    "I’ll make a few small charts:\n",
    "\n",
    "- How many people are in each obesity level.\n",
    "\n",
    "- The average Age for each group.\n",
    "\n",
    "- The average Weight (or FAF = physical activity) for each group.\n",
    "\n",
    "These quick charts help me spot simple patterns before building the model."
   ]
  },
  {
   "cell_type": "code",
   "execution_count": 6,
   "id": "2674f0fa-d418-494b-acd8-f88a0190e800",
   "metadata": {},
   "outputs": [
    {
     "data": {
      "image/png": "[encoded data removed]",
      "text/plain": [
       "<Figure size 1500x400 with 3 Axes>"
      ]
     },
     "metadata": {},
     "output_type": "display_data"
    }
   ],
   "source": [
    "import matplotlib.pyplot as plt\n",
    "\n",
    "target_name = TARGET\n",
    "\n",
    "fig, axes = plt.subplots(1, 3, figsize=(15, 4))\n",
    "\n",
    "# 1. Class counts\n",
    "df[target_name].value_counts().plot(kind=\"bar\", ax=axes[0], color='skyblue')\n",
    "axes[0].set_title(\"Class counts\")\n",
    "axes[0].set_xlabel(\"class\"); axes[0].set_ylabel(\"count\")\n",
    "\n",
    "# 2. Average Age by class (only if column exists)\n",
    "if \"Age\" in df.columns:\n",
    "    df.groupby(target_name)[\"Age\"].mean().plot(kind=\"bar\", ax=axes[1], color='lightgreen')\n",
    "    axes[1].set_title(\"Average Age by class\")\n",
    "    axes[1].set_xlabel(\"class\"); axes[1].set_ylabel(\"Age\")\n",
    "\n",
    "# 3. Average Weight by class (or FAF)\n",
    "if \"Weight\" in df.columns:\n",
    "    df.groupby(target_name)[\"Weight\"].mean().plot(kind=\"bar\", ax=axes[2], color='salmon')\n",
    "    axes[2].set_title(\"Average Weight by class\")\n",
    "    axes[2].set_xlabel(\"class\"); axes[2].set_ylabel(\"Weight\")\n",
    "elif \"FAF\" in df.columns:\n",
    "    df.groupby(target_name)[\"FAF\"].mean().plot(kind=\"bar\", ax=axes[2], color='salmon')\n",
    "    axes[2].set_title(\"Average Physical Activity by class\")\n",
    "    axes[2].set_xlabel(\"class\"); axes[2].set_ylabel(\"FAF\")\n",
    "\n",
    "plt.tight_layout()\n",
    "plt.show()"
   ]
  },
  {
   "cell_type": "markdown",
   "id": "9bbf5f4d-467d-4ee0-b345-ca3e479211e5",
   "metadata": {},
   "source": [
    "I used a Decision Tree:\n",
    "\n",
    "* **What it is?** : It splits the data into groups using easy rules.\n",
    "\n",
    "* **Why I chose it?** : It’s simple and easy to understand more compared to other models. A tree clearly shows how it makes each decision.\n",
    "\n",
    "* **Pros**: Simple, clear, and doesn’t need extra data prep.\n",
    "\n",
    "* **Cons**: If it’s too big it can make mistakes, so I set a small depth."
   ]
  },
  {
   "cell_type": "code",
   "execution_count": 7,
   "id": "fd089f0e-c8b4-4ce9-98f7-3dfc689539fe",
   "metadata": {},
   "outputs": [
    {
     "data": {
      "text/plain": [
       "Weight                            0.546056\n",
       "Gender                            0.242662\n",
       "Height                            0.144334\n",
       "Age                               0.050650\n",
       "FCVC                              0.016298\n",
       "family_history_with_overweight    0.000000\n",
       "FAVC                              0.000000\n",
       "NCP                               0.000000\n",
       "CAEC                              0.000000\n",
       "SMOKE                             0.000000\n",
       "dtype: float64"
      ]
     },
     "execution_count": 7,
     "metadata": {},
     "output_type": "execute_result"
    }
   ],
   "source": [
    "tree = DecisionTreeClassifier(max_depth=4, random_state=42)\n",
    "tree.fit(X_tr, y_tr)\n",
    "\n",
    "# Quick look at feature importance (which columns the tree used most)\n",
    "importances = pd.Series(tree.feature_importances_, index=X.columns).sort_values(ascending=False)\n",
    "importances.head(10)"
   ]
  },
  {
   "cell_type": "markdown",
   "id": "5772a957-8d81-4016-adcb-6b82a52ba277",
   "metadata": {},
   "source": [
    "## 6) Evaluation (Metrics & Why)\n",
    "\n",
    "I checked:\n",
    "\n",
    "- **Accuracy** – shows how often the model gets it right overall.\n",
    "\n",
    "- **Macro F1** – gives equal weight to each group, even if some groups are smaller.\n",
    "\n",
    "- **Confusion Matrix and Classification Report** – show how well the model did for each group separately.\n",
    "\n",
    "Macro F1 is useful here because the groups in the data aren’t the same size.\n"
   ]
  },
  {
   "cell_type": "code",
   "execution_count": 9,
   "id": "50b16c59-b346-4744-8f03-cbd83d5280e7",
   "metadata": {},
   "outputs": [
    {
     "name": "stdout",
     "output_type": "stream",
     "text": [
      "Accuracy: 0.778\n",
      "Macro F1: 0.778\n",
      "\n",
      "Confusion Matrix:\n",
      " [[48  6  0  0  0  0  0]\n",
      " [ 3 37  0  0  0 16  2]\n",
      " [ 0  0 46  8  0  2 14]\n",
      " [ 0  0  2 57  0  0  1]\n",
      " [ 0  0  0  1 64  0  0]\n",
      " [ 0  2  0  0  0 42 14]\n",
      " [ 0  0 14  3  0  6 35]]\n",
      "\n",
      "Classification Report:\n",
      "               precision    recall  f1-score   support\n",
      "\n",
      "           0       0.94      0.89      0.91        54\n",
      "           1       0.82      0.64      0.72        58\n",
      "           2       0.74      0.66      0.70        70\n",
      "           3       0.83      0.95      0.88        60\n",
      "           4       1.00      0.98      0.99        65\n",
      "           5       0.64      0.72      0.68        58\n",
      "           6       0.53      0.60      0.56        58\n",
      "\n",
      "    accuracy                           0.78       423\n",
      "   macro avg       0.79      0.78      0.78       423\n",
      "weighted avg       0.79      0.78      0.78       423\n",
      "\n"
     ]
    }
   ],
   "source": [
    "y_pred = tree.predict(X_te)\n",
    "\n",
    "acc = accuracy_score(y_te, y_pred)\n",
    "f1m = f1_score(y_te, y_pred, average=\"macro\")\n",
    "cm  = confusion_matrix(y_te, y_pred)\n",
    "\n",
    "print(\"Accuracy:\", round(acc, 3))\n",
    "print(\"Macro F1:\", round(f1m, 3))\n",
    "print(\"\\nConfusion Matrix:\\n\", cm)\n",
    "print(\"\\nClassification Report:\\n\", classification_report(y_te, y_pred, zero_division=0))\n"
   ]
  },
  {
   "cell_type": "markdown",
   "id": "7e2f9f0e-37ae-4c97-8c3b-6c8e5881a876",
   "metadata": {},
   "source": [
    "## 7) Storytelling (What I Learned)\n",
    "\n",
    "* The tree relied mostly on Weight, Gender, and Height to make its predictions.\n",
    "\n",
    "* I noticed that in this dataset, people with higher weight and less healthy habits tended to fall into higher obesity levels.\n",
    "\n",
    "* The model answered my question: it can classify obesity level with about 78% accuracy.\n",
    "\n",
    "* Simple takeaway: In this dataset, basic lifestyle and body measures are strongly linked to a person’s weight category."
   ]
  },
  {
   "cell_type": "markdown",
   "id": "d17cc91b-33c8-452b-89e7-99f7b31fd975",
   "metadata": {},
   "source": [
    "## 8) Impact (Social/Ethical)\n",
    "\n",
    "* **Not medical advice**: This is just a simple learning model. It shouldn’t be used to diagnose people.\n",
    "\n",
    "* **Labels can hurt**: Words like “obesity” can feel negative, so the results should be shared kindly.\n",
    "\n",
    "* **Data may be wrong**: Because people filled in the info themselves, some answers may be off and the model can make mistakes.\n",
    "\n",
    "* **Best use**: It’s mainly good for learning and showing how basic habits connect to health groups."
   ]
  },
  {
   "cell_type": "markdown",
   "id": "38a92679-6916-4a84-a438-8f1f005e0e27",
   "metadata": {},
   "source": [
    "## 9) References\n",
    "\n",
    "- Kaggle: https://www.kaggle.com/datasets/adeniranstephen/obesity-prediction-dataset \n",
    "- scikit-learn docs: DecisionTreeClassifier\n",
    "- Matplotlib docs\n"
   ]
  }
 ],
 "metadata": {
  "kernelspec": {
   "display_name": "Python [conda env:DataMining]",
   "language": "python",
   "name": "conda-env-DataMining-py"
  },
  "language_info": {
   "codemirror_mode": {
    "name": "ipython",
    "version": 3
   },
   "file_extension": ".py",
   "mimetype": "text/x-python",
   "name": "python",
   "nbconvert_exporter": "python",
   "pygments_lexer": "ipython3",
   "version": "3.12.11"
  }
 },
 "nbformat": 4,
 "nbformat_minor": 5
}
